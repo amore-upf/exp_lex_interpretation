{
 "cells": [
  {
   "cell_type": "code",
   "execution_count": 1,
   "metadata": {},
   "outputs": [],
   "source": [
    "import torch\n",
    "import warnings\n",
    "warnings.filterwarnings(\"ignore\", message='source.*has changed')\n",
    "import numpy as np\n",
    "from transformers import *\n",
    "from language_models_utils import load_languagemodel, get_logprobability_word\n",
    "from vectors_utils import nearest_neighbors, cosine_similarity\n",
    "from interpretation_model import get_expected_and_lexical_vectors, combine_expected_and_lexical\n",
    "\n",
    "cuda = False"
   ]
  },
  {
   "cell_type": "markdown",
   "metadata": {},
   "source": [
    "### Load language model"
   ]
  },
  {
   "cell_type": "code",
   "execution_count": 2,
   "metadata": {},
   "outputs": [],
   "source": [
    "# model_type : LSTM, or BERT-large/BERT-base\n",
    "model_type = 'LSTM'\n",
    "if model_type.startswith('BERT'):\n",
    "    from transformers import *\n",
    "language_model, word_emb_matrix, vocab = load_languagemodel(model_type, model_dir = '../LSTM-LM/', cuda = cuda)"
   ]
  },
  {
   "cell_type": "markdown",
   "metadata": {},
   "source": [
    "### Specify context and target word"
   ]
  },
  {
   "cell_type": "code",
   "execution_count": 3,
   "metadata": {},
   "outputs": [],
   "source": [
    "context = ' Last night I was bored , but I found a very nice show to watch on TV '\n",
    "target = 'show'\n",
    "index_target = context.split().index(target)"
   ]
  },
  {
   "cell_type": "code",
   "execution_count": 4,
   "metadata": {},
   "outputs": [],
   "source": [
    "expected, lexical = get_expected_and_lexical_vectors(language_model, vocab, context, index_target, model_type = model_type)"
   ]
  },
  {
   "cell_type": "markdown",
   "metadata": {},
   "source": [
    "### Specify parameters for combination and combine"
   ]
  },
  {
   "cell_type": "code",
   "execution_count": 13,
   "metadata": {},
   "outputs": [],
   "source": [
    "combination_type = 'delta'\n",
    "alpha = 0.5\n",
    "interpretation_combined = combine_expected_and_lexical(expected, lexical, combination_type =combination_type, alpha_param = alpha)"
   ]
  },
  {
   "cell_type": "markdown",
   "metadata": {},
   "source": [
    "### Check outputs"
   ]
  },
  {
   "cell_type": "code",
   "execution_count": 15,
   "metadata": {},
   "outputs": [
    {
     "name": "stdout",
     "output_type": "stream",
     "text": [
      "Closest words to expectations: ['picture', 'man', 'movie', 'film', 'place', 'girl', 'book', 'game', 'time', 'bird']\n",
      "Closest words to lexical information: ['show', 'shows', 'showed', 'showing', 'demonstrate', 'Show', 'display', 'exhibit', 'reveal', 'indicate']\n",
      "Closest words to interpretation: ['picture', 'man', 'movie', 'film', 'place', 'girl', 'book', 'game', 'time', 'bird']\n",
      "Surprisal of the word given the context: 6.0083666\n",
      "Cosine between expected and lexical representation: 0.18985112011432648\n",
      "Cosine between expectations and interpretation: 0.8976683020591736\n"
     ]
    }
   ],
   "source": [
    "expected_nns = nearest_neighbors(expected, word_emb_matrix, vocab, model_type = model_type, n=10, into_words = True)\n",
    "lexical_nns = nearest_neighbors(lexical, word_emb_matrix, vocab, model_type = model_type, n=10, into_words = True)\n",
    "combined_nns = nearest_neighbors(combined, word_emb_matrix, vocab, model_type = model_type, n=10, into_words = True)\n",
    "\n",
    "cosine_exp_lex = cosine_similarity(expected, lexical)\n",
    "cosine_exp_interpretation = cosine_similarity(expected, interpretation_combined)\n",
    "surprisal_word = - get_logprobability_word(language_model, context, index_target, vocab, cuda =cuda, model_type = model_type)\n",
    "print('Closest words to expectations:', expected_nns)\n",
    "print('Closest words to lexical information:', lexical_nns)\n",
    "print('Closest words to interpretation:', expected_nns)\n",
    "\n",
    "print('Surprisal of the word given the context:', surprisal_word)\n",
    "print('Cosine between expected and lexical representation:', cosine_exp_lex)\n",
    "print('Cosine between expectations and interpretation:', cosine_exp_interpretation)"
   ]
  },
  {
   "cell_type": "code",
   "execution_count": null,
   "metadata": {},
   "outputs": [],
   "source": []
  }
 ],
 "metadata": {
  "kernelspec": {
   "display_name": "Python 3",
   "language": "python",
   "name": "python3"
  },
  "language_info": {
   "codemirror_mode": {
    "name": "ipython",
    "version": 3
   },
   "file_extension": ".py",
   "mimetype": "text/x-python",
   "name": "python",
   "nbconvert_exporter": "python",
   "pygments_lexer": "ipython3",
   "version": "3.7.4"
  }
 },
 "nbformat": 4,
 "nbformat_minor": 2
}
