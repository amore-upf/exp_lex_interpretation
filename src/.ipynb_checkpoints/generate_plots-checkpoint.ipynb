{
 "cells": [
  {
   "cell_type": "code",
   "execution_count": 5,
   "metadata": {},
   "outputs": [
    {
     "name": "stdout",
     "output_type": "stream",
     "text": [
      "LSTM-tied\n"
     ]
    },
    {
     "data": {
      "text/plain": [
       "<Figure size 2880x1800 with 0 Axes>"
      ]
     },
     "metadata": {},
     "output_type": "display_data"
    },
    {
     "data": {
      "text/plain": [
       "<Figure size 2880x288 with 0 Axes>"
      ]
     },
     "metadata": {},
     "output_type": "display_data"
    },
    {
     "data": {
      "text/plain": [
       "<Figure size 2880x1800 with 0 Axes>"
      ]
     },
     "metadata": {},
     "output_type": "display_data"
    },
    {
     "data": {
      "text/plain": [
       "<Figure size 2880x288 with 0 Axes>"
      ]
     },
     "metadata": {},
     "output_type": "display_data"
    },
    {
     "data": {
      "text/plain": [
       "<Figure size 2880x1800 with 0 Axes>"
      ]
     },
     "metadata": {},
     "output_type": "display_data"
    },
    {
     "data": {
      "text/plain": [
       "<Figure size 2880x288 with 0 Axes>"
      ]
     },
     "metadata": {},
     "output_type": "display_data"
    },
    {
     "name": "stdout",
     "output_type": "stream",
     "text": [
      "LSTM-tiedT\n"
     ]
    },
    {
     "data": {
      "text/plain": [
       "<Figure size 2880x1800 with 0 Axes>"
      ]
     },
     "metadata": {},
     "output_type": "display_data"
    },
    {
     "data": {
      "text/plain": [
       "<Figure size 2880x288 with 0 Axes>"
      ]
     },
     "metadata": {},
     "output_type": "display_data"
    },
    {
     "data": {
      "text/plain": [
       "<Figure size 2880x1800 with 0 Axes>"
      ]
     },
     "metadata": {},
     "output_type": "display_data"
    },
    {
     "data": {
      "text/plain": [
       "<Figure size 2880x288 with 0 Axes>"
      ]
     },
     "metadata": {},
     "output_type": "display_data"
    },
    {
     "data": {
      "text/plain": [
       "<Figure size 2880x1800 with 0 Axes>"
      ]
     },
     "metadata": {},
     "output_type": "display_data"
    },
    {
     "data": {
      "text/plain": [
       "<Figure size 2880x288 with 0 Axes>"
      ]
     },
     "metadata": {},
     "output_type": "display_data"
    },
    {
     "name": "stdout",
     "output_type": "stream",
     "text": [
      "BERT-base\n"
     ]
    },
    {
     "data": {
      "text/plain": [
       "<Figure size 2880x1800 with 0 Axes>"
      ]
     },
     "metadata": {},
     "output_type": "display_data"
    },
    {
     "data": {
      "text/plain": [
       "<Figure size 2880x288 with 0 Axes>"
      ]
     },
     "metadata": {},
     "output_type": "display_data"
    },
    {
     "data": {
      "text/plain": [
       "<Figure size 2880x1800 with 0 Axes>"
      ]
     },
     "metadata": {},
     "output_type": "display_data"
    },
    {
     "data": {
      "text/plain": [
       "<Figure size 2880x288 with 0 Axes>"
      ]
     },
     "metadata": {},
     "output_type": "display_data"
    },
    {
     "data": {
      "text/plain": [
       "<Figure size 2880x1800 with 0 Axes>"
      ]
     },
     "metadata": {},
     "output_type": "display_data"
    },
    {
     "data": {
      "text/plain": [
       "<Figure size 2880x288 with 0 Axes>"
      ]
     },
     "metadata": {},
     "output_type": "display_data"
    },
    {
     "name": "stdout",
     "output_type": "stream",
     "text": [
      "BERT-large\n"
     ]
    },
    {
     "data": {
      "text/plain": [
       "<Figure size 2880x1800 with 0 Axes>"
      ]
     },
     "metadata": {},
     "output_type": "display_data"
    },
    {
     "data": {
      "text/plain": [
       "<Figure size 2880x288 with 0 Axes>"
      ]
     },
     "metadata": {},
     "output_type": "display_data"
    },
    {
     "data": {
      "text/plain": [
       "<Figure size 2880x1800 with 0 Axes>"
      ]
     },
     "metadata": {},
     "output_type": "display_data"
    },
    {
     "data": {
      "text/plain": [
       "<Figure size 2880x288 with 0 Axes>"
      ]
     },
     "metadata": {},
     "output_type": "display_data"
    },
    {
     "data": {
      "text/plain": [
       "<Figure size 2880x1800 with 0 Axes>"
      ]
     },
     "metadata": {},
     "output_type": "display_data"
    },
    {
     "data": {
      "text/plain": [
       "<Figure size 2880x288 with 0 Axes>"
      ]
     },
     "metadata": {},
     "output_type": "display_data"
    }
   ],
   "source": [
    "from lexical_substitution import *\n",
    "import os \n",
    "import numpy as np\n",
    "from scipy.stats import pearsonr, spearmanr\n",
    "def plot_results(df, output_dir, comb, similarity, phase = 'dev', measure = 'recall', sum = False, find_best = False):\n",
    "    matplotlib.rc('text', usetex=True)\n",
    "    matplotlib.rcParams.update({'font.size': 55})\n",
    "    palette = plt.get_cmap('tab20')\n",
    "    if sum:\n",
    "        measure = 'recall'\n",
    "\n",
    "    fig, axs = plt.subplots(1, 1, figsize=(18, 18))\n",
    "\n",
    "    value_exp = df[measure + '-expectation'].mean()\n",
    "    if sum:\n",
    "        value_exp += np.nanmean(list(df['gap-expectation']))\n",
    "\n",
    "    value_word = np.nanmean(list(df[measure + '-lexical']))\n",
    "    if sum:\n",
    "        value_word +=  np.nanmean(list(df['gap-lexical']))\n",
    "\n",
    "    if find_best:\n",
    "        value_best = np.nanmean(list(df[measure + '-best']))\n",
    "        if sum:\n",
    "            value_best += np.nanmean(list(df['gap-best']))\n",
    "\n",
    "    axs.axhline(y=value_exp, label='Expectation',  linestyle='-', linewidth=8,\n",
    "                             color=palette(19))\n",
    "\n",
    "    axs.axhline(y=value_word, label='Lexical',  linestyle='-', linewidth=8,\n",
    "                             color=palette(7))\n",
    "\n",
    "    scores_recall = []\n",
    "    scores_gap = []\n",
    "    params = []\n",
    "\n",
    "    for col in df.columns:\n",
    "        if 'recall-' in col and 'expectation' not in col and 'lexical' not in col and 'best' not in col:\n",
    "            param = col.split('recall-')[1]\n",
    "            params.append(float(param))\n",
    "            param = str(param)\n",
    "            scores_recall.append(np.nanmean(df['recall-'+str(param)]))\n",
    "            scores_gap.append(np.nanmean(df['gap-'+str(param)]))\n",
    "    \n",
    "    boundary = True\n",
    "    for p in params:\n",
    "        val = df['sim_exp_output-' + str(p)].mean() > df['sim_lex_output-' + str(p)].mean()\n",
    "        if not val:\n",
    "            boundary = p\n",
    "            break\n",
    "            \n",
    "    plt.axvline(x=boundary, label='Exp $>$ Lex', color=palette(5),linewidth=8, alpha=1, linestyle= 'dotted')\n",
    "    \n",
    "    if not sum:\n",
    "        if measure == 'recall':\n",
    "            values_combined = scores_recall\n",
    "            measure_tmp = \"\\\\textsc{Recall}-10\"\n",
    "        elif measure == 'gap':\n",
    "            values_combined = scores_gap\n",
    "            measure_tmp = \"\\\\textsc{GAP}\"\n",
    "    else:\n",
    "        values_combined = np.array(scores_recall) + np.array(scores_gap)\n",
    "        measure_tmp = '\\\\textsc{Recall}-10 + \\\\textsc{GAP}'\n",
    "        measure = 'recall+gap'\n",
    "    if comb == 'weighted_avg':\n",
    "        axs.set_xticks([round(i, 1) for i in list(np.array(range(0, 101, 10)) * 0.01)])\n",
    "    else:\n",
    "        axs.set_xticks([round(i, 1) for i in list(np.array(range(0, 301, 30)) * 0.01)])\n",
    "\n",
    "    axs.set_xlabel('$\\\\alpha$', fontsize = 60)\n",
    "    axs.set_ylabel(measure_tmp, fontsize=60)\n",
    "    axs.plot(params, values_combined, label = 'Combined - constant $\\\\alpha$', color=palette(9), linewidth=8, alpha=1, markersize=18)\n",
    "    \n",
    "    \n",
    "    if find_best:\n",
    "        plt.axhline(y=value_best, label='Combined - optimal $\\\\alpha$', color=palette(13),linewidth=8, alpha=1, markersize=17)\n",
    "    \n",
    "    handles, labels = axs.get_legend_handles_labels()\n",
    "    \n",
    "    if find_best:\n",
    "        fig.savefig(output_dir + phase + '_' + comb+ '_' + measure + '_' + similarity + '_withbest.png')\n",
    "    else:\n",
    "        fig.savefig(output_dir + phase + '_' + comb + '_' + measure + '_' + similarity + '.png')\n",
    "    fig.clear()\n",
    "    \n",
    "    fig = plt.figure(figsize = (10, 6))\n",
    "    fig.legend(handles, labels, loc='upper center',\n",
    "                     ncol=1, shadow=True, fontsize= 50, facecolor='white', framealpha=1)\n",
    "\n",
    "    fig.savefig(output_dir + phase + '_' + comb + '_' + measure + '_' + similarity + '_legend.png')\n",
    "    fig.clear()\n",
    "    \n",
    "\n",
    "\n",
    "def plot_surprisal_output(test_df, param_best, output_dir, comb, similarity, phase = 'test'):\n",
    "    print('surprisal')\n",
    "    matplotlib.rc('text', usetex=True)\n",
    "    matplotlib.rcParams.update({'font.size': 70})\n",
    "    palette = plt.get_cmap('tab10')\n",
    "    plt.figure(figsize = (20, 20))\n",
    "\n",
    "    x = test_df['sim_exp_output-' + param_best]\n",
    "    y = test_df['surprisal_word']\n",
    "    print('expoutput-surprisal', spearmanr(x, y))\n",
    "\n",
    "    plt.scatter(-x, y, color = palette(0))\n",
    "\n",
    "    plt.xlabel('$ 1 - cosine (\\mathbf{e}_c, \\mathbf{i}_{v, c})$')\n",
    "    plt.ylabel('$ - \\log P (v| c; LM)$')\n",
    "    plt.savefig(output_dir + phase + '_' + comb + '_' + similarity + '_surprisal-expoutput.png')\n",
    "    plt.clf()\n",
    "\n",
    "    x = test_df['sim_exp_output-best']\n",
    "    y = test_df['surprisal_word']\n",
    "    print('expoutput-surprisal best', spearmanr(x, y))\n",
    "\n",
    "    plt.scatter(-x, y, color=palette(0))\n",
    "\n",
    "    plt.xlabel('$ 1 -  cosine (\\mathbf{e}_c, \\mathbf{i}_{v, c})$')\n",
    "    plt.ylabel('$ - \\log P (v| c; LM)$')\n",
    "    plt.savefig(output_dir + phase + '_' + comb + '_' + similarity + '_best_surprisal-expoutput.png')\n",
    "    plt.clf()\n",
    "\n",
    "    x = test_df['sim_lex_output-' + param_best]\n",
    "    y = test_df['surprisal_word']\n",
    "    print('lexoutput-surprisal', spearmanr(x, y))\n",
    "\n",
    "    plt.scatter(-x, y, color = palette(0))\n",
    "\n",
    "    plt.xlabel('$ 1 - cosine (\\mathbf{l}_{v}, \\mathbf{i}_{v, c})$')\n",
    "    plt.ylabel('$ - \\log P (v| c; LM)$')\n",
    "    plt.savefig(output_dir + phase + '_' + comb + '_' + similarity + '_surprisal-lexoutput.png')\n",
    "    plt.clf()\n",
    "\n",
    "    x = test_df['sim_lex_output-best']\n",
    "    y = test_df['surprisal_word']\n",
    "    print('lexoutput-surprisal best', spearmanr(x, y))\n",
    "\n",
    "    plt.scatter(-x, y, color=palette(0))\n",
    "\n",
    "    plt.xlabel('$ 1 - cosine (\\mathbf{l}_{v}, \\mathbf{i}_{v, c})$')\n",
    "    plt.ylabel('$ - \\log P (v| c; LM)$')\n",
    "    plt.savefig(output_dir + phase + '_' + comb + '_' + similarity + '_best_surprisal-lexoutput.png')\n",
    "    plt.clf()\n",
    "\n",
    "def plot_alpha_output(test_df, param_best, output_dir, comb, similarity, phase = 'test'):\n",
    "    print('alpha')\n",
    "    matplotlib.rc('text', usetex=True)\n",
    "    matplotlib.rcParams.update({'font.size': 70})\n",
    "    palette = plt.get_cmap('tab10')\n",
    "    plt.figure(figsize = (20, 20))\n",
    "    \n",
    "    x = test_df['sim_exp_output-' + param_best]\n",
    "    y = test_df['best_param']\n",
    "    print('expoutput-surprisal', spearmanr(x, y))\n",
    "\n",
    "    plt.scatter(x, y, color = palette(0))\n",
    "\n",
    "    plt.xlabel('$ cosine (\\mathbf{e}_c, \\mathbf{i}_{v, c})$')\n",
    "    plt.ylabel('optimal $\\\\alpha$')\n",
    "    plt.savefig(output_dir + phase + '_' + comb + '_' + similarity + '_alpha-expoutput.png')\n",
    "    plt.clf()\n",
    "\n",
    "    x = test_df['sim_exp_output-best']\n",
    "    y = test_df['best_param']\n",
    "    print('expoutput-surprisal best', spearmanr(x, y))\n",
    "\n",
    "    plt.scatter(x, y, color=palette(0))\n",
    "\n",
    "    plt.xlabel('$ cosine (\\mathbf{e}_c, \\mathbf{i}_{v, c})$')\n",
    "    plt.ylabel('optimal $\\\\alpha$')\n",
    "    plt.savefig(output_dir + phase + '_' + comb + '_' + similarity + '_best_alpha-expoutput.png')\n",
    "    plt.clf()\n",
    "\n",
    "    x = test_df['sim_lex_output-' + param_best]\n",
    "    y = test_df['best_param']\n",
    "    print('lexoutput-surprisal', spearmanr(x, y))\n",
    "\n",
    "    plt.scatter(x, y, color = palette(0))\n",
    "\n",
    "    plt.xlabel('$ cosine (\\mathbf{l}_{v}, \\mathbf{i}_{v, c})$')\n",
    "    plt.ylabel('optimal $\\\\alpha$')\n",
    "    plt.savefig(output_dir + phase + '_' + comb + '_' + similarity + '_alpha-lexoutput.png')\n",
    "    plt.clf()\n",
    "\n",
    "    x = test_df['sim_lex_output-best']\n",
    "    y = test_df['best_param']\n",
    "    print('lexoutput-surprisal best', spearmanr(x, y))\n",
    "\n",
    "    plt.scatter(x, y, color=palette(0))\n",
    "\n",
    "    plt.xlabel('$ cosine (\\mathbf{l}_{v}, \\mathbf{i}_{v, c})$')\n",
    "    plt.ylabel('optimal $\\\\alpha$')\n",
    "    plt.savefig(output_dir + phase + '_' + comb + '_' + similarity + '_best_alpha-lexoutput.png')\n",
    "    plt.clf()\n",
    "    \n",
    "def plot_results_together(output_dir, combinations, similarity, phase = 'dev', measure = 'recall', sum = False, find_best = False):\n",
    "    combs_df = {}\n",
    "    for comb in combinations:\n",
    "        output_dir_tmp = output_dir + comb + '/'\n",
    "        combs_df[comb] = pd.read_csv(output_dir_tmp + 'dev_' + comb + '_' + similarity + '_all.csv')\n",
    "    \n",
    "    matplotlib.rc('text', usetex=True)\n",
    "    plt.rc('font', family='sans-erif')\n",
    "    matplotlib.rcParams.update({'font.size': 90})\n",
    "    palette = plt.get_cmap('tab20')\n",
    "    matplotlib.rcParams['axes.linewidth'] = 3\n",
    "    if sum:\n",
    "        measure = 'recall'\n",
    "\n",
    "    fig, axs = plt.subplots(1, 2, figsize=(40, 25), sharey=True)\n",
    "\n",
    "    \n",
    "    value_exp = combs_df['delta'][measure + '-expectation'].mean()\n",
    "    if sum:\n",
    "        value_exp += np.nanmean(list(combs_df['delta']['gap-expectation']))\n",
    "\n",
    "    value_word = np.nanmean(list(combs_df['delta'][measure + '-lexical']))\n",
    "    if sum:\n",
    "        value_word +=  np.nanmean(list(combs_df['delta']['gap-lexical']))\n",
    "\n",
    "    for ax in axs:\n",
    "        ax.axhline(y=value_exp, label='Expectation',  linestyle='-', linewidth=18,\n",
    "                             color=palette(19), marker = \"^\")\n",
    "\n",
    "        ax.axhline(y=value_word, label='Lexical',  linestyle='-',linewidth=18,\n",
    "                             color=palette(7), marker = \"v\")\n",
    "    \n",
    "    i = 0\n",
    "    for comb in combinations:\n",
    "        scores_recall = []\n",
    "        scores_gap = []\n",
    "        params = []\n",
    "    \n",
    "        if find_best:\n",
    "            value_best = np.nanmean(list(combs_df[comb][measure + '-best']))\n",
    "            if sum:\n",
    "                value_best += np.nanmean(list(combs_df[comb]['gap-best']))\n",
    "            \n",
    "        for col in combs_df[comb].columns:\n",
    "            if 'recall-' in col and 'expectation' not in col and 'lexical' not in col and 'best' not in col:\n",
    "                param = col.split('recall-')[1]\n",
    "                params.append(float(param))\n",
    "                param = str(param)\n",
    "                scores_recall.append(np.nanmean(combs_df[comb]['recall-'+str(param)]))\n",
    "                scores_gap.append(np.nanmean(combs_df[comb]['gap-'+str(param)]))\n",
    "    \n",
    "        if not sum:\n",
    "            if measure == 'recall':\n",
    "                values_combined = scores_recall\n",
    "                measure_tmp =\"RECALL-10\"\n",
    "            elif measure == 'gap':\n",
    "                values_combined = scores_gap\n",
    "                measure_tmp = \"GAP\"\n",
    "            measure_label = measure\n",
    "        else:\n",
    "            values_combined = np.array(scores_recall) + np.array(scores_gap)\n",
    "            measure_tmp = 'RECALL-10 + GAP'\n",
    "            measure_label = 'recall+gap'\n",
    "        \n",
    "        if comb == 'weighted_avg':\n",
    "            axs[i].set_xticks([round(i, 1) for i in list(np.array(range(0, 101, 20)) * 0.01)])\n",
    "            axs[i].set_xlabel('\\\\textit{avg-}$\\\\alpha$')\n",
    "        else:\n",
    "            axs[i].set_xticks([round(i, 1) for i in list(np.array(range(0, 301, 60)) * 0.01)])\n",
    "            axs[i].set_xlabel('\\\\textit{delta-}$\\\\alpha$')\n",
    "        \n",
    "        axs[i].set_ylabel(measure_tmp)\n",
    "        axs[i].plot(params, values_combined, label = 'Combined - constant $\\\\alpha$', \n",
    "                    color=palette(9), linewidth=18, alpha=1, markersize=18)\n",
    "\n",
    "        if find_best:\n",
    "            axs[i].axhline(y=value_best, label='Combined - optimal $\\\\alpha$', color=palette(13),linewidth=18, alpha=1, \n",
    "                           markersize=1)\n",
    "        \n",
    "        boundary = True\n",
    "        for p in params:\n",
    "            val = round(combs_df[comb]['sim_exp_output-' + str(p)].mean(),5) > round(combs_df[comb]['sim_lex_output-' + str(p)].mean(),5)\n",
    "            if not val:\n",
    "                boundary = p\n",
    "                break\n",
    "        axs[i].axvline(x=boundary, label='Exp vs. Lex', color=palette(5),linewidth=18, alpha=1, linestyle= 'dotted')\n",
    "        \n",
    "        handles, labels = axs[i].get_legend_handles_labels()\n",
    "        i += 1\n",
    "    plt.tight_layout()\n",
    "    if find_best:\n",
    "        fig.savefig(output_dir + phase + '_'  + measure_label + '_' + similarity + '_withbest.png')\n",
    "    else:\n",
    "        fig.savefig(output_dir + phase + '_' + measure_label + '_' + similarity + '.png')\n",
    "    fig.clear()\n",
    "    plt.tight_layout()\n",
    "    fig = plt.figure(figsize = (40, 4))\n",
    "    fig.legend(handles, labels, loc='upper center',\n",
    "                     ncol=3, fontsize= 70, facecolor='white', framealpha = 0)\n",
    "\n",
    "    fig.savefig(output_dir + phase + '_' + measure_label + '_' + similarity + '_legend.png')\n",
    "    plt.show()\n",
    "    \n",
    "\n",
    "    \n",
    "def analyze_results(output_dir, combinations, similarity, find_best = True):\n",
    "    \n",
    "    plot_results_together(output_dir,  combinations, similarity, measure='recall', find_best=find_best, phase = 'dev')\n",
    "    plot_results_together(output_dir, combinations, similarity, measure='gap', find_best=find_best, phase = 'dev')\n",
    "    plot_results_together(output_dir, combinations, similarity, sum=True, find_best=find_best, phase = 'dev')\n",
    "    \n",
    "#     for comb in combinations:\n",
    "#         print(comb)\n",
    "#         output_dir_tmp = output_dir + comb + '/'\n",
    "#         dev_output= pd.read_csv(output_dir_tmp + 'dev_' + comb + '_' + similarity + '_all.csv')\n",
    "#         test_output= pd.read_csv(output_dir_tmp + 'test_' + comb + '_' + similarity + '_all.csv')\n",
    "        \n",
    "# #         plot_results(dev_output, output_dir_tmp,  comb, similarity, measure='recall', find_best=find_best, phase = 'dev')\n",
    "# #         plot_results(dev_output, output_dir_tmp, comb, similarity, measure='gap', find_best=find_best, phase = 'dev')\n",
    "# #         plot_results(dev_output, output_dir_tmp, comb, similarity, sum=True, find_best=find_best, phase = 'dev')\n",
    "\n",
    "#         # Find trained model with smallest validation loss\n",
    "#         dev_scores = pd.read_csv(output_dir + 'dev' + '_' + similarity + '_all_scores_withbest.csv')\n",
    "#         data_combination = dev_scores[(dev_scores.evaluated == 'combined_' + comb) & (dev_scores.alpha != 'best')]\n",
    "#         best_model_row = data_combination.loc[data_combination['recall+gap'].idxmax()]\n",
    "#         param_best = best_model_row['alpha']\n",
    "\n",
    "# #         plot_surprisal_output(test_output, param_best, output_dir_tmp, comb, similarity, phase = 'test')\n",
    "# #         plot_alpha_output(test_output, param_best, output_dir_tmp, comb, similarity, phase = 'test')\n",
    "#         print(spearmanr(dev_output['surprisal_word'], 1 - np.array(dev_output['sim_exp_output-0.3'])))\n",
    "#         print(spearmanr(dev_output['sim_exp_lex'], 1 - np.array(dev_output['sim_exp_output-0.3'])))\n",
    "\n",
    "results_dir = '../results_20-1/lexical_substitution/'\n",
    "combinations = ['weighted_avg', 'delta']\n",
    "similarity = 'cosine'\n",
    "\n",
    "for model_eval in os.listdir(results_dir): \n",
    "    print(model_eval)\n",
    "    output_dir = results_dir + model_eval + '/'\n",
    "    analyze_results(output_dir, combinations, similarity, find_best = True)"
   ]
  },
  {
   "cell_type": "code",
   "execution_count": null,
   "metadata": {},
   "outputs": [],
   "source": []
  }
 ],
 "metadata": {
  "kernelspec": {
   "display_name": "Python 3",
   "language": "python",
   "name": "python3"
  },
  "language_info": {
   "codemirror_mode": {
    "name": "ipython",
    "version": 3
   },
   "file_extension": ".py",
   "mimetype": "text/x-python",
   "name": "python",
   "nbconvert_exporter": "python",
   "pygments_lexer": "ipython3",
   "version": "3.7.4"
  }
 },
 "nbformat": 4,
 "nbformat_minor": 2
}
