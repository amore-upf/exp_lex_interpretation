{
 "cells": [
  {
   "cell_type": "code",
   "execution_count": 3,
   "metadata": {
    "collapsed": true
   },
   "outputs": [],
   "source": [
    "import warnings\n",
    "warnings.filterwarnings(\"ignore\", message=\"numpy.dtype size changed\")\n",
    "warnings.filterwarnings(\"ignore\", message='source.*has changed')\n",
    "import random\n",
    "import torch.nn as nn\n",
    "import torch\n",
    "import argparse\n",
    "from torch.autograd import Variable\n",
    "import pandas as pd\n",
    "import numpy as np\n",
    "import matplotlib.pyplot as plt\n",
    "import os\n",
    "import pickle\n",
    "import math\n",
    "from itertools import product\n",
    "\n",
    "from lstm_utils import *\n",
    "from bert_utils import *\n",
    "from utils_models import *\n",
    "from lexsub_utils import *\n",
    "import rnn_models"
   ]
  },
  {
   "cell_type": "code",
   "execution_count": 22,
   "metadata": {
    "collapsed": true
   },
   "outputs": [],
   "source": [
    "def combine(expectation, word_emb, with_sum = True, normalize = True, \n",
    "            cuda = False, lr = 50, k = 1, prob_word = None, weight_sum = 0.5):\n",
    "    \"\"\"\n",
    "    Combines expectation and lexical vectors (sum or delta rule)\n",
    "    \"\"\"\n",
    "    if normalize:\n",
    "        expectation = torch.nn.functional.normalize(expectation, p= 2, dim = 0)\n",
    "        word_emb = torch.nn.functional.normalize(word_emb, p= 2, dim = 0)\n",
    "    cosine = torch.nn.functional.cosine_similarity(expectation, word_emb, dim = 0)\n",
    "    if with_sum:\n",
    "        weight_sum = compute_weight(weight_sum, cosine, computation_type = None)\n",
    "        print(weight_sum)\n",
    "        return (1 - weight_sum) * expectation + (weight_sum) * word_emb\n",
    "    else:\n",
    "        expectation_tmp = expectation.clone()\n",
    "        word_tmp = word_emb.clone()\n",
    "        expectation_tmp = Variable(expectation_tmp.unsqueeze(0), requires_grad=True)\n",
    "        word_tmp = Variable(word_tmp.unsqueeze(0), requires_grad=False)\n",
    "        loss_function = torch.nn.CosineEmbeddingLoss()\n",
    "        lr = compute_lr(lr, prob_word, cosine)\n",
    "        loss = loss_function(expectation_tmp, word_tmp, torch.ones(1))\n",
    "        loss.backward()\n",
    "        expectation_tmp = expectation_tmp - lr *  expectation_tmp.grad\n",
    "        return expectation_tmp.squeeze(0)\n",
    "\n",
    "def dot_loss(vec1, vec2):\n",
    "    loss = - torch.dot(vec1.squeeze(0), vec2.squeeze(0))\n",
    "    return loss\n",
    "\n",
    "def compute_weight(starting_weight_sum, cosine, computation_type = None):\n",
    "    if computation_type == None:\n",
    "        weight_sum = starting_weight_sum\n",
    "    elif 'cosine':\n",
    "        weight_sum = starting_weight_sum * cosine\n",
    "    return weight_sum\n",
    "    \n",
    "def compute_lr(starting_lr, prob_word, cosine, computation_type = None):\n",
    "    if computation_type == None:\n",
    "        lr = starting_lr\n",
    "    elif 'cosine':\n",
    "        lr = starting_lr * (1 - cosine)\n",
    "    return lr\n",
    "    \n",
    "def from_vec_to_probs(vector, word_emb_matrix_apply, use_cosine = False):\n",
    "    \"\"\"\n",
    "    Derives word probabilities from vector; that is,\n",
    "    Multiplies with word embedding matrix + Applies softmax\n",
    "    \"\"\"\n",
    "    if use_cosine:\n",
    "        weights = cosine(vector, word_emb_matrix_apply.weight.data)\n",
    "    else:\n",
    "        weights = word_emb_matrix_apply(vector)\n",
    "    probs = torch.nn.functional.softmax(weights, dim = 0).cpu().detach().numpy()\n",
    "    return probs\n",
    "\n",
    "def get_top_predictions(probabilities, vector, model, word_emb_matrix, vocab, \n",
    "                        with_scores = False, n = 10, cosine = True, print_out = True):\n",
    "    \"\"\"\n",
    "    Shows predictions --> top likely according to probabilities scores; closest neighbors according to vector\n",
    "    If dot product is use to compute neighbors, they should be the identical\n",
    "    \n",
    "    WARNING: With BERT, the expectation predictions are not the same as the ones of the language model, \n",
    "    as we are ignoring the bias vector. But empirically it looks like its function is that of increasing the probability \n",
    "    mass of frequent words, so it should be fine to ignore it.\n",
    "    \"\"\"\n",
    "    top_prob_items = [idx2word(x, vocab, model)for x in np.flip(np.argsort(probabilities))][:n]\n",
    "    top_prob = [probabilities[x] for x in np.flip(np.argsort(probabilities))][:n]\n",
    "    nns, nns_scores = nearest_neighbours(vector, word_emb_matrix, vocab, model_eval = model, with_scores = True, \n",
    "                                            into_words = True, n = n, cosine_sim = cosine)\n",
    "    if with_scores:\n",
    "        return list(zip(top_prob_items, top_prob)), list(zip(nns, nns_scores))\n",
    "    else:\n",
    "        return top_prob_items, nns\n",
    "\n",
    "def get_expectation_and_lexical_probs(language_model, vocab, word_emb_matrix, context, \n",
    "                                      index_target, model_eval, cuda = False, n = 15, print_out = True, combination_type = 'sum', \n",
    "                                      param = None, norms = None, cosine = True):\n",
    "    \"\"\"\n",
    "    Given instance, returns predictions of expectation, lexical info and the two combined. \n",
    "    \"\"\"\n",
    "    expectation, word_emb = get_expectation_and_lexical_vectors(language_model, vocab, word_emb_matrix,\n",
    "                                                                context, index_target, model_eval, cuda = cuda)\n",
    "    if model_eval.startswith('LSTM'):\n",
    "        word_emb_matrix_apply =  language_model.decoder.decoder\n",
    "    elif model_eval.startswith('BERT'):\n",
    "        word_emb_matrix_apply = language_model.cls.predictions.decoder\n",
    "    \n",
    "    expectation_probs = from_vec_to_probs(expectation, word_emb_matrix_apply, use_cosine = cosine)\n",
    "    expectation_info = (expectation, expectation_probs)\n",
    "    \n",
    "    word = context.split()[index_target]\n",
    "    prob_word = expectation_probs[word2idx(word, vocab, model_eval)]\n",
    "    \n",
    "    lexical_probs = from_vec_to_probs(word_emb, word_emb_matrix_apply, use_cosine = cosine)\n",
    "    lexical_info = (word_emb, lexical_probs)\n",
    "    \n",
    "    combined_info_params = []\n",
    "    if combination_type =='sum':\n",
    "        for p in param:\n",
    "            weight_sum = p\n",
    "            combined = combine(expectation, word_emb, with_sum = True, weight_sum= weight_sum)\n",
    "            combined_weights = torch.Tensor(weight_sum * expectation_probs + (1 - weight_sum) * lexical_probs)\n",
    "            combined_probs = torch.nn.functional.softmax(combined_weights, dim = 0).cpu().detach().numpy()\n",
    "            combined_info = (combined, combined_probs)\n",
    "            combined_info_params.append(combined_info)\n",
    "    elif combination_type == 'delta':\n",
    "        for p in param:\n",
    "            lr = p\n",
    "            combined = combine(expectation, word_emb, with_sum = False, lr = lr, prob_word = prob_word) \n",
    "            combined_probs = from_vec_to_probs(combined, word_emb_matrix_apply, use_cosine = cosine)\n",
    "            combined_info = (combined, combined_probs)\n",
    "            combined_info_params.append(combined_info)\n",
    "\n",
    "    if print_out:\n",
    "        top_prob, nns =  get_top_predictions(expectation_probs, expectation, model_eval, word_emb_matrix, vocab, print_out = True, cosine = cosine)\n",
    "        print('EXPECTATION\\nTop likely: ' + str( top_prob) + '\\nNeighbors: ' + str(nns))\n",
    "\n",
    "        top_prob, nns =  get_top_predictions(lexical_probs, word_emb, model_eval, word_emb_matrix, vocab, print_out = True, cosine = cosine)\n",
    "        print('LEXICAL INFO\\nTop likely: ' + str( top_prob) + '\\nNeighbors: ' + str(nns))\n",
    "\n",
    "        top_prob, nns =  get_top_predictions(combined_probs, combined, model_eval, word_emb_matrix, vocab,  print_out = True, cosine = cosine)\n",
    "        print('COMBINED\\nTop likely: ' + str( top_prob) + '\\nNeighbors: ' + str(nns))\n",
    "        \n",
    "    return expectation_info, lexical_info, combined_info_params"
   ]
  },
  {
   "cell_type": "code",
   "execution_count": null,
   "metadata": {},
   "outputs": [],
   "source": []
  },
  {
   "cell_type": "code",
   "execution_count": 13,
   "metadata": {
    "collapsed": true
   },
   "outputs": [],
   "source": [
    "def store_lexsub_scores(recalls, gaps, scores, to_eval, param = None):\n",
    "    recall, gap = scores\n",
    "    if to_eval != 'combined':\n",
    "        recalls[to_eval].append(recall)\n",
    "        gaps[to_eval].append(gap)\n",
    "    else:\n",
    "        recall, gap = scores\n",
    "        recalls['combined'][str(param)].append(recall)\n",
    "        gaps['combined'][str(param)].append(gap)\n",
    "        \n",
    "def run_lex_sub(data, language_model, word_emb_matrix, vocab, model_eval = 'LSTM-tiedL', comb_type = 'sum', params = [0.5]):\n",
    "    recalls = {'expectation': [], 'lexical': [], 'combined': []}\n",
    "    gaps = {'expectation': [], 'lexical': [], 'combined': []}\n",
    "    recalls['combined'] = {str(p): [] for p in params}\n",
    "    gaps['combined'] = {str(p): [] for p in params}\n",
    "    best_params = []\n",
    "    i = 0\n",
    "    for index, row in data.iterrows():\n",
    "        if invocab(row.word, vocab, model_eval):\n",
    "            word = row.word\n",
    "            context = row.context\n",
    "            idx_in_context = row.idx_in_context\n",
    "            candidates = eval(row.candidates)\n",
    "            substitutions = {sub: freq for sub, freq in zip(eval(row.substitutions), eval(row.frequencies))}\n",
    "            expectation_info, lexical_info, combined_info_params = get_expectation_and_lexical_probs(language_model, vocab, word_emb_matrix, context,\n",
    "                                                  idx_in_context, model_eval, print_out = False, param = params, combination_type = comb_type, cosine = True)\n",
    "            '''\n",
    "            Currently, only evaluating top probability items - same as neighbors is using dot product\n",
    "            '''\n",
    "            scores = eval_lexsub(expectation_info, candidates, substitutions, vocab, word, model_eval = model_eval)\n",
    "            if scores == None: continue\n",
    "            store_lexsub_scores(recalls, gaps, scores, 'expectation')\n",
    "            scores = eval_lexsub(lexical_info, candidates, substitutions, vocab, word, model_eval = model_eval)\n",
    "            store_lexsub_scores(recalls, gaps, scores, 'lexical')\n",
    "            best_score = 0\n",
    "            best_param = params[0]\n",
    "            for i in range(len(params)):\n",
    "                p = params[i]\n",
    "                combined_info = combined_info_params[i]\n",
    "                scores = eval_lexsub(combined_info, candidates, substitutions, vocab, word, model_eval = model_eval)\n",
    "                store_lexsub_scores(recalls, gaps, scores, 'combined', param = p)\n",
    "                if scores[0] > best_score:\n",
    "                    best_score = scores[0]\n",
    "                    best_param = p\n",
    "            best_params.append(best_param)\n",
    "    for el in recalls:\n",
    "        if not el == 'combined':\n",
    "            recalls[el] = np.mean(recalls[el])\n",
    "            gaps[el] = np.mean(gaps[el])\n",
    "        else:\n",
    "            for p in params:\n",
    "                recalls[el][str(p)] = np.mean(recalls[el][str(p)])\n",
    "                gaps[el][str(p)] = np.mean(gaps[el][str(p)])\n",
    "    return recalls, gaps"
   ]
  },
  {
   "cell_type": "code",
   "execution_count": 14,
   "metadata": {},
   "outputs": [],
   "source": [
    "model_eval = 'LSTM-tiedL'\n",
    "language_model, word_emb_matrix, vocab = load_languagemodel(model_eval, pass_path_dir = '..')"
   ]
  },
  {
   "cell_type": "code",
   "execution_count": 15,
   "metadata": {
    "scrolled": true
   },
   "outputs": [],
   "source": [
    "data = pd.read_csv('../data/lexical_substitution/ratings_dev.csv', sep = '\\t', index_col = 0)\n",
    "import matplotlib.pyplot as plt\n",
    "\n",
    "sample_data = data.sample(n = 100)\n",
    "recalls = {'expectation': [], 'lexical': [], 'combined': []}\n",
    "gaps = {'expectation': [], 'lexical': [], 'combined': []}\n",
    "params = [0.2, 0.3, 0.4, 0.5]\n",
    "#scores = run_lex_sub(sample_data, language_model, word_emb_matrix, vocab, model_eval = model_eval, comb_type = 'sum', params = params)"
   ]
  },
  {
   "cell_type": "code",
   "execution_count": 7,
   "metadata": {},
   "outputs": [
    {
     "data": {
      "image/png": "[encoded data removed]",
      "text/plain": [
       "<Figure size 432x288 with 1 Axes>"
      ]
     },
     "metadata": {
      "needs_background": "light"
     },
     "output_type": "display_data"
    }
   ],
   "source": [
    "plt.plot(x = 'weight', y = 'recall', title = 'Lexical substitution, recall' )\n",
    "plt.xlabel('Weight of expectation vs. sum')\n",
    "plt.ylabel('Gap')\n",
    "\n",
    "plt.plot(params, recalls['combined'].values())\n",
    "value_exp = recalls['expectation']\n",
    "value_word = recalls['lexical']\n",
    "plt.axhline(y = value_exp, label = 'Expectations', color = 'green')\n",
    "plt.axhline(y = value_word, label = 'Word', color = 'red')\n",
    "\n",
    "plt.legend()\n",
    "plt.show()"
   ]
  },
  {
   "cell_type": "code",
   "execution_count": 54,
   "metadata": {},
   "outputs": [
    {
     "data": {
      "text/plain": [
       "({'expectation': 0.08776631701631703,\n",
       "  'lexical': 0.13152625152625153,\n",
       "  'combined': {'20': 0.15400971250971252, '50': 0.18459917859917863}},\n",
       " {'expectation': 0.40754256159491287,\n",
       "  'lexical': 0.42307808750741294,\n",
       "  'combined': {'20': 0.46169984300172545, '50': 0.467419036914959}})"
      ]
     },
     "execution_count": 54,
     "metadata": {},
     "output_type": "execute_result"
    }
   ],
   "source": [
    "scores"
   ]
  },
  {
   "cell_type": "code",
   "execution_count": 8,
   "metadata": {},
   "outputs": [
    {
     "data": {
      "image/png": "[encoded data removed]",
      "text/plain": [
       "<Figure size 432x288 with 1 Axes>"
      ]
     },
     "metadata": {
      "needs_background": "light"
     },
     "output_type": "display_data"
    }
   ],
   "source": [
    "plt.plot(x = 'weight', y = 'gap', title = 'Lexical substitution, recall' )\n",
    "plt.xlabel('Weight of expectation vs. sum')\n",
    "plt.ylabel('Gap')\n",
    "\n",
    "plt.plot(params, gaps['combined'].values())\n",
    "value_exp = gaps['expectation']\n",
    "value_word = gaps['lexical']\n",
    "plt.axhline(y = value_exp, label = 'Expectations', color = 'green')\n",
    "plt.axhline(y = value_word, label = 'Word', color = 'red')\n",
    "\n",
    "plt.legend()\n",
    "plt.show()"
   ]
  },
  {
   "cell_type": "code",
   "execution_count": null,
   "metadata": {
    "collapsed": true
   },
   "outputs": [],
   "source": []
  },
  {
   "cell_type": "code",
   "execution_count": null,
   "metadata": {
    "collapsed": true
   },
   "outputs": [],
   "source": []
  },
  {
   "cell_type": "code",
   "execution_count": 23,
   "metadata": {
    "scrolled": true
   },
   "outputs": [
    {
     "name": "stdout",
     "output_type": "stream",
     "text": [
      "0.2\n",
      "0.3\n",
      "0.4\n",
      "0.5\n",
      "EXPECTATION\n",
      "Top likely: ['fixed', '<unk>', 'book', 'problem', 'computer', 'copy', 'job', 'flat', 'letter', 'picture']\n",
      "Neighbors: ['fixed', '<unk>', 'book', 'problem', 'computer', 'copy', 'job', 'flat', 'letter', 'picture']\n",
      "LEXICAL INFO\n",
      "Top likely: ['mouse', 'rat', 'monkey', 'turtle', 'cat', 'squirrel', 'chimpanzee', 'mice', 'toddler', 'hedgehog']\n",
      "Neighbors: ['mouse', 'rat', 'monkey', 'turtle', 'cat', 'squirrel', 'chimpanzee', 'mice', 'toddler', 'hedgehog']\n",
      "COMBINED\n",
      "Top likely: ['mouse', 'cat', 'baby', 'computer', 'monkey', 'rat', 'dog', 'spider', 'camera', 'worm']\n",
      "Neighbors: ['mouse', 'cat', 'baby', 'computer', 'monkey', 'rat', 'dog', 'spider', 'camera', 'child']\n"
     ]
    }
   ],
   "source": [
    "context = ' I went to the supermarket and bought a monster as a present for my child '\n",
    "word = 'monster'\n",
    "\n",
    "context = ' Her new show airs tonight on Netflix '\n",
    "word = 'show'\n",
    "\n",
    "context = ' I have a mouse on my desk , but it is not working . '\n",
    "word = 'mouse'\n",
    "\n",
    "x, y, z = get_expectation_and_lexical_probs(language_model, vocab, word_emb_matrix, context, \n",
    "                                                  context.split().index(word), model_eval, print_out = True, param = [1], combination_type = 'sum')"
   ]
  },
  {
   "cell_type": "code",
   "execution_count": null,
   "metadata": {
    "collapsed": true
   },
   "outputs": [],
   "source": [
    "\n"
   ]
  },
  {
   "cell_type": "code",
   "execution_count": null,
   "metadata": {
    "collapsed": true
   },
   "outputs": [],
   "source": []
  },
  {
   "cell_type": "code",
   "execution_count": 34,
   "metadata": {
    "collapsed": true
   },
   "outputs": [],
   "source": [
    "model_eval = 'LSTM-tiedL'\n",
    "language_model, word_emb_matrix, vocab = load_languagemodel(model_eval, pass_path_dir = '..')\n",
    "\n",
    "sample_data = data.sample(n = 200)\n",
    "norms_exp = []\n",
    "norms_lex = []\n",
    "for index, row in sample_data.iterrows():\n",
    "    if invocab(row.word, vocab, model_eval):\n",
    "        word = row.word\n",
    "        context = row.context\n",
    "        idx_in_context = row.idx_in_context\n",
    "    \n",
    "        expectation, word_emb = get_expectation_and_lexical_vectors(language_model, vocab, word_emb_matrix, context, idx_in_context, model_eval, cuda = False)\n",
    "        norms_exp.append(np.linalg.norm(expectation.detach().numpy()))\n",
    "        norms_lex.append(np.linalg.norm(word_emb.detach().numpy()))\n",
    "\n",
    "np.mean(norms_exp), np.mean(norms_lex)"
   ]
  },
  {
   "cell_type": "code",
   "execution_count": 36,
   "metadata": {},
   "outputs": [
    {
     "name": "stderr",
     "output_type": "stream",
     "text": [
      "The pre-trained model you are loading is a cased model but you have not set `do_lower_case` to False. We are setting `do_lower_case=False` for you but you may want to check this behavior.\n"
     ]
    },
    {
     "data": {
      "text/plain": [
       "(39.61594, 1.1261047)"
      ]
     },
     "execution_count": 36,
     "metadata": {},
     "output_type": "execute_result"
    }
   ],
   "source": [
    "model_eval = 'BERT-base'\n",
    "language_model, word_emb_matrix, vocab = load_languagemodel(model_eval, pass_path_dir = '..')\n",
    "\n",
    "sample_data = data.sample(n = 200)\n",
    "norms_exp = []\n",
    "norms_lex = []\n",
    "for index, row in sample_data.iterrows():\n",
    "    if invocab(row.word, vocab, model_eval):\n",
    "        word = row.word\n",
    "        context = row.context\n",
    "        idx_in_context = row.idx_in_context\n",
    "    \n",
    "        expectation, word_emb = get_expectation_and_lexical_vectors(language_model, vocab, word_emb_matrix, context, idx_in_context, model_eval, cuda = False)\n",
    "        norms_exp.append(np.linalg.norm(expectation.detach().numpy()))\n",
    "        norms_lex.append(np.linalg.norm(word_emb.detach().numpy()))\n",
    "\n",
    "np.mean(norms_exp), np.mean(norms_lex)"
   ]
  },
  {
   "cell_type": "code",
   "execution_count": 39,
   "metadata": {},
   "outputs": [
    {
     "name": "stdout",
     "output_type": "stream",
     "text": [
      "tensor(112.3141, grad_fn=<AddBackward0>)\n"
     ]
    }
   ],
   "source": []
  },
  {
   "cell_type": "code",
   "execution_count": null,
   "metadata": {
    "collapsed": true
   },
   "outputs": [],
   "source": []
  },
  {
   "cell_type": "code",
   "execution_count": 40,
   "metadata": {},
   "outputs": [
    {
     "name": "stdout",
     "output_type": "stream",
     "text": [
      "tensor(-0.9642)\n"
     ]
    }
   ],
   "source": []
  },
  {
   "cell_type": "code",
   "execution_count": null,
   "metadata": {
    "collapsed": true
   },
   "outputs": [],
   "source": []
  },
  {
   "cell_type": "code",
   "execution_count": null,
   "metadata": {
    "collapsed": true
   },
   "outputs": [],
   "source": []
  },
  {
   "cell_type": "code",
   "execution_count": null,
   "metadata": {
    "collapsed": true
   },
   "outputs": [],
   "source": []
  },
  {
   "cell_type": "code",
   "execution_count": null,
   "metadata": {
    "collapsed": true
   },
   "outputs": [],
   "source": []
  },
  {
   "cell_type": "code",
   "execution_count": null,
   "metadata": {
    "collapsed": true
   },
   "outputs": [],
   "source": []
  },
  {
   "cell_type": "code",
   "execution_count": null,
   "metadata": {
    "collapsed": true
   },
   "outputs": [],
   "source": []
  },
  {
   "cell_type": "code",
   "execution_count": null,
   "metadata": {
    "collapsed": true
   },
   "outputs": [],
   "source": []
  },
  {
   "cell_type": "code",
   "execution_count": null,
   "metadata": {
    "collapsed": true
   },
   "outputs": [],
   "source": []
  },
  {
   "cell_type": "code",
   "execution_count": null,
   "metadata": {
    "collapsed": true
   },
   "outputs": [],
   "source": []
  }
 ],
 "metadata": {
  "kernelspec": {
   "display_name": "Python 3",
   "language": "python",
   "name": "python3"
  },
  "language_info": {
   "codemirror_mode": {
    "name": "ipython",
    "version": 3
   },
   "file_extension": ".py",
   "mimetype": "text/x-python",
   "name": "python",
   "nbconvert_exporter": "python",
   "pygments_lexer": "ipython3",
   "version": "3.5.4"
  }
 },
 "nbformat": 4,
 "nbformat_minor": 2
}
